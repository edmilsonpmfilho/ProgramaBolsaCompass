{
 "cells": [
  {
   "cell_type": "markdown",
   "id": "a942454c",
   "metadata": {},
   "source": [
    "### Exercícios Parte 1/1\n",
    "Desenvolva um código Python que lê do teclado nome e a idade atual de uma pessoa. Como saída, imprima o ano em que a pessoa completará 100 anos de idade."
   ]
  },
  {
   "cell_type": "code",
   "execution_count": 6,
   "id": "4f5f41f2",
   "metadata": {},
   "outputs": [
    {
     "name": "stdout",
     "output_type": "stream",
     "text": [
      "Digite seu nome: Edmilson\n",
      "Digite sua idade atual: 25\n",
      "Edmilson você completará 100 anos no ano 2098\n"
     ]
    }
   ],
   "source": [
    "# Lê o nome e a idade atual da pessoa do teclado\n",
    "nome = input(\"Digite seu nome: \")\n",
    "idade = int(input(\"Digite sua idade atual: \"))\n",
    "\n",
    "# Calcula o ano em que a pessoa completará 100 anos\n",
    "ano_fara_100 = 2023 + (100 - idade)\n",
    "\n",
    "print(ano_fara_100)"
   ]
  },
  {
   "cell_type": "markdown",
   "id": "4082b22d",
   "metadata": {},
   "source": [
    "### Exercícios Parte 1/2\n",
    "Escreva um código Python para verificar se três números digitados na entrada padrão são pares ou ímpares. Para cada número, imprima como saída Par: ou Ímpar: e o número correspondente (um linha para cada número lido).\n",
    "Importante: Aplique a função range() em seu código.\n",
    "Exemplos de saída:\n",
    "Par: 2\n",
    "Ímpar: 3"
   ]
  },
  {
   "cell_type": "code",
   "execution_count": 7,
   "id": "6a66c691",
   "metadata": {},
   "outputs": [
    {
     "name": "stdout",
     "output_type": "stream",
     "text": [
      "Digite o 1º número: 6\n",
      "Digite o 2º número: 16\n",
      "Digite o 3º número: 13\n",
      "Par: 6\n",
      "Par: 16\n",
      "Ímpar: 13\n"
     ]
    }
   ],
   "source": [
    "# Solicita três números ao usuário\n",
    "numeros = [int(input(f\"Digite o {i+1}º número: \")) for i in range(3)]\n",
    "\n",
    "# Verifica se cada número é par ou ímpar e imprime a saída correspondente\n",
    "for numero in numeros:\n",
    "    if numero % 2 == 0:\n",
    "        print(f\"Par: {numero}\")\n",
    "    else:\n",
    "        print(f\"Ímpar: {numero}\")"
   ]
  },
  {
   "cell_type": "markdown",
   "id": "35a48976",
   "metadata": {},
   "source": [
    "### Exercícios Parte 1/3\n",
    "Escreva um código Python para imprimir os números pares de 0 até 20 (incluso).\n",
    "Importante: Aplique a função range() em seu código."
   ]
  },
  {
   "cell_type": "code",
   "execution_count": null,
   "id": "3e469d42",
   "metadata": {},
   "outputs": [],
   "source": [
    "# Imprime os números pares de 0 a 20\n",
    "for numero in range(0, 21, 2):\n",
    "    print(numero)"
   ]
  },
  {
   "cell_type": "markdown",
   "id": "1ca6fefd",
   "metadata": {},
   "source": [
    "### Exercícios Parte 1/4\n",
    "Escreva um código Python para imprimir todos os números primos entre 1 até 100. Lembre-se que você deverá desenvolver o cálculo que identifica se um número é primo ou não.\n",
    "Importante: Aplique a função range()."
   ]
  },
  {
   "cell_type": "code",
   "execution_count": null,
   "id": "d1adc7f7",
   "metadata": {},
   "outputs": [],
   "source": [
    "def is_primo(numero):\n",
    "    \"\"\"\n",
    "    Função que verifica se um número é primo.\n",
    "    Retorna True se for primo, False caso contrário.\n",
    "    \"\"\"\n",
    "    if numero < 2:\n",
    "        return False  # Números menores que 2 não são primos\n",
    "    for i in range(2, int(numero**0.5) + 1):\n",
    "        if numero % i == 0:\n",
    "            return False  # Números divisíveis por outros além de 1 e ele mesmo não são primos\n",
    "    return True\n",
    "\n",
    "# Imprime números primos de 1 a 100\n",
    "for numero in range(1, 101):\n",
    "    if is_primo(numero):\n",
    "        print(numero)"
   ]
  },
  {
   "cell_type": "markdown",
   "id": "d5a65983",
   "metadata": {},
   "source": [
    "### Exercícios Parte 1/5\n",
    "Escreva um código Python que declara 3 variáveis:\n",
    "dia, inicializada com valor 22\n",
    "mes, inicializada com valor 10 e\n",
    "ano, inicializada com valor 2022\n",
    "Como saída, você deverá imprimir a data correspondente, no formato a seguir dia/mes/ano."
   ]
  },
  {
   "cell_type": "code",
   "execution_count": null,
   "id": "b60163b9",
   "metadata": {},
   "outputs": [],
   "source": [
    "# Declaração das variáveis\n",
    "dia = 22\n",
    "mes = 10\n",
    "ano = 2022\n",
    "\n",
    "# Imprime a data no formato dia/mes/ano\n",
    "print(f\"{dia}/{mes}/{ano}\")"
   ]
  }
 ],
 "metadata": {
  "kernelspec": {
   "display_name": "Python 3 (ipykernel)",
   "language": "python",
   "name": "python3"
  },
  "language_info": {
   "codemirror_mode": {
    "name": "ipython",
    "version": 3
   },
   "file_extension": ".py",
   "mimetype": "text/x-python",
   "name": "python",
   "nbconvert_exporter": "python",
   "pygments_lexer": "ipython3",
   "version": "3.10.9"
  }
 },
 "nbformat": 4,
 "nbformat_minor": 5
}
