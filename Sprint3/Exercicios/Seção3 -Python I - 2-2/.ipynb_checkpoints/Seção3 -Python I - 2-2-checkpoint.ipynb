{
 "cells": [
  {
   "cell_type": "markdown",
   "id": "08f285df",
   "metadata": {},
   "source": [
    "### Exercícios Parte 2/6\n",
    "Considere as duas listas abaixo:\n",
    "a = [1, 1, 2, 3, 5, 8, 14, 21, 34, 55, 89]\n",
    "b = [1, 2, 3, 4, 5, 6, 7, 8, 9, 10, 11, 12, 13, 14, 15]\n",
    "Escreva um programa para avaliar o que ambas as listas têm em comum (sem repetições), imprimindo a lista de valores da interseção na saída padrão.\n",
    "Importante:  Esperamos que você utilize o construtor set() em seu código."
   ]
  },
  {
   "cell_type": "code",
   "execution_count": null,
   "id": "2844e440",
   "metadata": {},
   "outputs": [],
   "source": [
    "# Listas fornecidas\n",
    "a = [1, 1, 2, 3, 5, 8, 14, 21, 34, 55, 89]\n",
    "b = [1, 2, 3, 4, 5, 6, 7, 8, 9, 10, 11, 12, 13, 14, 15]\n",
    "\n",
    "# Converte as listas em conjuntos usando set()\n",
    "set_a = set(a)\n",
    "set_b = set(b)\n",
    "\n",
    "# Encontra a interseção dos conjuntos\n",
    "intersecao = set_a & set_b\n",
    "\n",
    "# Imprime a lista de valores da interseção\n",
    "print(list(intersecao))"
   ]
  },
  {
   "cell_type": "markdown",
   "id": "935143c1",
   "metadata": {},
   "source": [
    "### Exercícios Parte 2/7\n",
    "Dada a seguinte lista:\n",
    "a = [1, 4, 9, 16, 25, 36, 49, 64, 81, 100]\n",
    "Faça um programa que gere uma nova lista contendo apenas números ímpares."
   ]
  },
  {
   "cell_type": "code",
   "execution_count": null,
   "id": "de60daff",
   "metadata": {},
   "outputs": [],
   "source": [
    "# Lista fornecida\n",
    "a = [1, 4, 9, 16, 25, 36, 49, 64, 81, 100]\n",
    "\n",
    "# Cria uma nova lista contendo apenas números ímpares\n",
    "numeros_impares = [numero for numero in a if numero % 2 != 0]\n",
    "\n",
    "# Imprime a nova lista\n",
    "print(numeros_impares)"
   ]
  },
  {
   "cell_type": "markdown",
   "id": "fecf713e",
   "metadata": {},
   "source": [
    "### Exercícios Parte 2/8\n",
    "Verifique se cada uma das palavras da lista ['maça', 'arara', 'audio', 'radio', 'radar', 'moto'] é ou não um palíndromo.\n",
    "Obs: Palíndromo é uma palavra que permanece igual se lida de traz pra frente.\n",
    "É necessário que você imprima no console exatamente assim:\n",
    "A palavra: maça não é um palíndromo \n",
    "A palavra: arara é um palíndromo \n",
    "A palavra: audio não é um palíndromo \n",
    "A palavra: radio não é um palíndromo\n",
    "A palavra: radar é um palíndromo \n",
    "A palavra: moto não é um palíndromo"
   ]
  },
  {
   "cell_type": "code",
   "execution_count": null,
   "id": "5ccadfbb",
   "metadata": {},
   "outputs": [],
   "source": [
    "# Lista de palavras\n",
    "palavras = ['maça', 'arara', 'audio', 'radio', 'radar', 'moto']\n",
    "\n",
    "# Verifica se cada palavra é um palíndromo\n",
    "for palavra in palavras:\n",
    "    invertida = palavra[::-1]  # Inverte a palavra\n",
    "    if palavra == invertida:\n",
    "        print(f\"A palavra: {palavra} é um palíndromo\")\n",
    "    else:\n",
    "        print(f\"A palavra: {palavra} não é um palíndromo\")"
   ]
  },
  {
   "cell_type": "markdown",
   "id": "874c92b3",
   "metadata": {},
   "source": [
    "### Exercícios Parte 2/9\n",
    "Dada as listas a seguir:\n",
    "primeirosNomes = ['Joao', 'Douglas', 'Lucas', 'José']\n",
    "sobreNomes = ['Soares', 'Souza', 'Silveira', 'Pedreira']\n",
    "idades = [19, 28, 25, 31]\n",
    "Faça um programa que imprima o dados na seguinte estrutura: \"índice - primeiroNome sobreNome está com idade anos\".\n",
    "Exemplo:\n",
    "0 - João Soares está com 19 anos"
   ]
  },
  {
   "cell_type": "code",
   "execution_count": null,
   "id": "2989bd76",
   "metadata": {},
   "outputs": [],
   "source": [
    "# Listas fornecidas\n",
    "primeirosNomes = ['Joao', 'Douglas', 'Lucas', 'José']\n",
    "sobreNomes = ['Soares', 'Souza', 'Silveira', 'Pedreira']\n",
    "idades = [19, 28, 25, 31]\n",
    "\n",
    "# Itera sobre os índices e imprime os dados formatados\n",
    "for indice, (primeiroNome, sobreNome, idade) in enumerate(zip(primeirosNomes, sobreNomes, idades)):\n",
    "    print(f\"{indice} - {primeiroNome} {sobreNome} está com {idade} anos\")"
   ]
  },
  {
   "cell_type": "markdown",
   "id": "28c4cd60",
   "metadata": {},
   "source": [
    "### Exercícios Parte 2/10\n",
    "Escreva uma função que recebe uma lista e retorna uma nova lista sem elementos duplicados. Utilize a lista a seguir para testar sua função.\n",
    "['abc', 'abc', 'abc', '123', 'abc', '123', '123']"
   ]
  },
  {
   "cell_type": "code",
   "execution_count": null,
   "id": "de3a0765",
   "metadata": {},
   "outputs": [],
   "source": [
    "def remover_duplicatas(lista):\n",
    "    return list(set(lista))\n",
    "\n",
    "# Lista de teste\n",
    "lista_teste = ['abc', 'abc', 'abc', '123', 'abc', '123', '123']\n",
    "\n",
    "# Chamada da função e impressão do resultado\n",
    "resultado = remover_duplicatas(lista_teste)\n",
    "print(resultado)"
   ]
  },
  {
   "cell_type": "markdown",
   "id": "6caa7714",
   "metadata": {},
   "source": [
    "### Exercícios Parte 2/11\n",
    "Escreva um programa para ler o conteúdo do arquivo texto arquivo_texto.txt e imprimir o seu conteúdo.\n",
    "Dica: leia a documentação da função open(...)"
   ]
  },
  {
   "cell_type": "code",
   "execution_count": 1,
   "id": "c6f7768d",
   "metadata": {},
   "outputs": [
    {
     "ename": "FileNotFoundError",
     "evalue": "[Errno 2] No such file or directory: 'arquivo_texto.txt'",
     "output_type": "error",
     "traceback": [
      "\u001b[1;31m---------------------------------------------------------------------------\u001b[0m",
      "\u001b[1;31mFileNotFoundError\u001b[0m                         Traceback (most recent call last)",
      "Cell \u001b[1;32mIn[1], line 2\u001b[0m\n\u001b[0;32m      1\u001b[0m \u001b[38;5;66;03m# Abre o arquivo em modo de leitura\u001b[39;00m\n\u001b[1;32m----> 2\u001b[0m \u001b[38;5;28;01mwith\u001b[39;00m \u001b[38;5;28;43mopen\u001b[39;49m\u001b[43m(\u001b[49m\u001b[38;5;124;43m'\u001b[39;49m\u001b[38;5;124;43marquivo_texto.txt\u001b[39;49m\u001b[38;5;124;43m'\u001b[39;49m\u001b[43m,\u001b[49m\u001b[43m \u001b[49m\u001b[38;5;124;43m'\u001b[39;49m\u001b[38;5;124;43mr\u001b[39;49m\u001b[38;5;124;43m'\u001b[39;49m\u001b[43m)\u001b[49m \u001b[38;5;28;01mas\u001b[39;00m arquivo:\n\u001b[0;32m      3\u001b[0m       \u001b[38;5;66;03m# Lê o conteúdo do arquivo\u001b[39;00m\n\u001b[0;32m      4\u001b[0m     conteudo \u001b[38;5;241m=\u001b[39m arquivo\u001b[38;5;241m.\u001b[39mread()\n\u001b[0;32m      6\u001b[0m        \u001b[38;5;66;03m# Imprime o conteúdo\u001b[39;00m\n",
      "File \u001b[1;32m~\\anaconda3\\lib\\site-packages\\IPython\\core\\interactiveshell.py:282\u001b[0m, in \u001b[0;36m_modified_open\u001b[1;34m(file, *args, **kwargs)\u001b[0m\n\u001b[0;32m    275\u001b[0m \u001b[38;5;28;01mif\u001b[39;00m file \u001b[38;5;129;01min\u001b[39;00m {\u001b[38;5;241m0\u001b[39m, \u001b[38;5;241m1\u001b[39m, \u001b[38;5;241m2\u001b[39m}:\n\u001b[0;32m    276\u001b[0m     \u001b[38;5;28;01mraise\u001b[39;00m \u001b[38;5;167;01mValueError\u001b[39;00m(\n\u001b[0;32m    277\u001b[0m         \u001b[38;5;124mf\u001b[39m\u001b[38;5;124m\"\u001b[39m\u001b[38;5;124mIPython won\u001b[39m\u001b[38;5;124m'\u001b[39m\u001b[38;5;124mt let you open fd=\u001b[39m\u001b[38;5;132;01m{\u001b[39;00mfile\u001b[38;5;132;01m}\u001b[39;00m\u001b[38;5;124m by default \u001b[39m\u001b[38;5;124m\"\u001b[39m\n\u001b[0;32m    278\u001b[0m         \u001b[38;5;124m\"\u001b[39m\u001b[38;5;124mas it is likely to crash IPython. If you know what you are doing, \u001b[39m\u001b[38;5;124m\"\u001b[39m\n\u001b[0;32m    279\u001b[0m         \u001b[38;5;124m\"\u001b[39m\u001b[38;5;124myou can use builtins\u001b[39m\u001b[38;5;124m'\u001b[39m\u001b[38;5;124m open.\u001b[39m\u001b[38;5;124m\"\u001b[39m\n\u001b[0;32m    280\u001b[0m     )\n\u001b[1;32m--> 282\u001b[0m \u001b[38;5;28;01mreturn\u001b[39;00m io_open(file, \u001b[38;5;241m*\u001b[39margs, \u001b[38;5;241m*\u001b[39m\u001b[38;5;241m*\u001b[39mkwargs)\n",
      "\u001b[1;31mFileNotFoundError\u001b[0m: [Errno 2] No such file or directory: 'arquivo_texto.txt'"
     ]
    }
   ],
   "source": [
    "# Abre o arquivo em modo de leitura\n",
    "with open('arquivo_texto.txt', 'r') as arquivo:\n",
    "      # Lê o conteúdo do arquivo\n",
    "    conteudo = arquivo.read()\n",
    "        \n",
    "       # Imprime o conteúdo\n",
    "    print(conteudo)"
   ]
  },
  {
   "cell_type": "markdown",
   "id": "7ab99785",
   "metadata": {},
   "source": [
    "### Exercícios Parte 2/12\n",
    "Leia o arquivo person.json, faça o parsing e imprima seu conteúdo.\n",
    "Dica: leia a documentação do pacote json"
   ]
  },
  {
   "cell_type": "code",
   "execution_count": null,
   "id": "32271463",
   "metadata": {},
   "outputs": [],
   "source": [
    "import json\n",
    "\n",
    "# Abre o arquivo JSON em modo de leitura\n",
    "with open('person.json', 'r') as arquivo_json:\n",
    "     # Carrega o conteúdo do arquivo JSON\n",
    "    dados = json.load(arquivo_json)\n",
    "    # Imprime os dados\n",
    "    print(dados)"
   ]
  },
  {
   "cell_type": "markdown",
   "id": "76003e4d",
   "metadata": {},
   "source": [
    "### Exercícios Parte 2/13\n",
    "Implemente a função my_map(list, f) que recebe uma lista como primeiro argumento e uma função como segundo argumento. Esta função aplica a função recebida para cada elemento da lista recebida e retorna o resultado em uma nova lista.\n",
    "Teste sua função com a lista de entrada [1, 2, 3, 4, 5, 6, 7, 8, 9, 10] e com uma função que potência de 2 para cada elemento."
   ]
  },
  {
   "cell_type": "code",
   "execution_count": null,
   "id": "085945a0",
   "metadata": {},
   "outputs": [],
   "source": [
    "def my_map(lista, funcao):\n",
    "    # Aplica a função para cada elemento da lista e retorna o resultado em uma nova lista\n",
    "    return [funcao(elemento) for elemento in lista]\n",
    "\n",
    "# Lista de entrada\n",
    "lista_entrada = [1, 2, 3, 4, 5, 6, 7, 8, 9, 10]\n",
    "\n",
    "# Função que eleva ao quadrado\n",
    "funcao_potencia_2 = lambda x: x ** 2\n",
    "\n",
    "# Aplica a função my_map com a lista de entrada e a função de potência de 2\n",
    "resultado = my_map(lista_entrada, funcao_potencia_2)\n",
    "\n",
    "# Imprime o resultado\n",
    "print(resultado)\n"
   ]
  },
  {
   "cell_type": "markdown",
   "id": "77e86e1f",
   "metadata": {},
   "source": [
    "### Exercícios Parte 2/14\n",
    "Escreva uma função que recebe um número variável de parâmetros não nomeados e um número variado de parâmetros nomeados e imprime o valor de cada parâmetro recebido.\n",
    "Teste sua função com os seguintes parâmetros:\n",
    "(1, 3, 4, 'hello', parametro_nomeado='alguma coisa', x=20)"
   ]
  },
  {
   "cell_type": "code",
   "execution_count": 2,
   "id": "f9f87ea1",
   "metadata": {},
   "outputs": [
    {
     "name": "stdout",
     "output_type": "stream",
     "text": [
      "Parâmetros não nomeados (posicionais):\n",
      "1\n",
      "3\n",
      "4\n",
      "hello\n",
      "\n",
      "Parâmetros nomeados:\n",
      "parametro_nomeado: alguma coisa\n",
      "x: 20\n"
     ]
    }
   ],
   "source": [
    "def imprimir_parametros(*args, **kwargs):\n",
    "    # Imprime os parâmetros não nomeados (posicionais)\n",
    "    for parametro in args:\n",
    "        print(parametro)\n",
    "    # Imprime os parâmetros nomeados\n",
    "    for chave, valor in kwargs.items():\n",
    "        print(f\"{chave}: {valor}\")\n",
    "# Teste da função com os parâmetros fornecidos\n",
    "imprimir_parametros(1, 3, 4, 'hello','alguma coisa', 20)"
   ]
  },
  {
   "cell_type": "markdown",
   "id": "921bf8fb",
   "metadata": {},
   "source": [
    "### Exercícios Parte 2/15\n",
    "Implemente a classe Lampada. A classe Lâmpada recebe um booleano no seu construtor, Truese a lâmpada estiver ligada, False caso esteja desligada. A classe Lampada possuí os seguintes métodos:\n",
    "liga(): muda o estado da lâmpada para ligada\n",
    "desliga(): muda o estado da lâmpada para desligada\n",
    "esta_ligada(): retorna verdadeiro se a lâmpada estiver ligada, falso caso contrário\n",
    "Para testar sua classe:\n",
    "Ligue a Lampada\n",
    "Imprima: A lâmpada está ligada? True\n",
    "Desligue a Lampada\n",
    "Imprima: A lâmpada ainda está ligada? False"
   ]
  },
  {
   "cell_type": "code",
   "execution_count": null,
   "id": "313a6c44",
   "metadata": {},
   "outputs": [],
   "source": [
    "class Lampada:\n",
    "    def __init__(self, ligada=False):\n",
    "        \"\"\"\n",
    "        Construtor da classe Lampada.\n",
    "\n",
    "        Parâmetros:\n",
    "        - ligada: Um booleano indicando se a lâmpada está ligada (True) ou desligada (False).\n",
    "        \"\"\"\n",
    "        self.ligada = ligada\n",
    "\n",
    "    def liga(self):\n",
    "        \"\"\"Muda o estado da lâmpada para ligada.\"\"\"\n",
    "        self.ligada = True\n",
    "\n",
    "    def desliga(self):\n",
    "        \"\"\"Muda o estado da lâmpada para desligada.\"\"\"\n",
    "        self.ligada = False\n",
    "\n",
    "    def esta_ligada(self):\n",
    "        \"\"\"\n",
    "        Retorna verdadeiro se a lâmpada estiver ligada, falso caso contrário.\n",
    "        \"\"\"\n",
    "        return self.ligada\n",
    "\n",
    "# Teste da classe Lampada\n",
    "lampada = Lampada()\n",
    "\n",
    "# Ligue a lâmpada\n",
    "lampada.liga()\n",
    "\n",
    "# Imprima: A lâmpada está ligada?\n",
    "print(\"A lâmpada está ligada?\", lampada.esta_ligada())\n",
    "\n",
    "# Desligue a lâmpada\n",
    "lampada.desliga()\n",
    "\n",
    "# Imprima: A lâmpada ainda está ligada?\n",
    "print(\"A lâmpada ainda está ligada?\", lampada.esta_ligada())"
   ]
  },
  {
   "cell_type": "markdown",
   "id": "112432d0",
   "metadata": {},
   "source": [
    "### Exercícios Parte 2/16\n",
    "Escreva uma função que recebe uma string de números separados por vírgula e retorne a soma de todos eles. Depois imprima a soma dos valores.\n",
    "A string deve ter valor  \"1,3,4,6,10,76\""
   ]
  },
  {
   "cell_type": "code",
   "execution_count": null,
   "id": "70ecd869",
   "metadata": {},
   "outputs": [],
   "source": [
    "def soma_numeros(string_numeros):\n",
    "    # Divide a string em uma lista de strings usando a vírgula como delimitador\n",
    "    numeros_str = string_numeros.split(',')\n",
    "\n",
    "    # Converte cada string para um número inteiro\n",
    "    numeros_int = [int(numero) for numero in numeros_str]\n",
    "\n",
    "    # Calcula a soma dos números\n",
    "    resultado = sum(numeros_int)\n",
    "\n",
    "    # Imprime a soma dos valores\n",
    "    print(resultado)\n",
    "\n",
    "# String de números\n",
    "string_numeros = \"1,3,4,6,10,76\"\n",
    "\n",
    "# Chama a função com a string de números\n",
    "soma_numeros(string_numeros)\n"
   ]
  },
  {
   "cell_type": "markdown",
   "id": "64515cc3",
   "metadata": {},
   "source": [
    "### Exercícios Parte 2/17\n",
    "Escreva uma função que recebe como parâmetro uma lista e retorna 3 listas: a lista recebida dividida em 3 partes iguais. Teste sua implementação com a lista abaixo\n",
    "lista = [1, 2, 3, 4, 5, 6, 7, 8, 9, 10, 11, 12]"
   ]
  },
  {
   "cell_type": "code",
   "execution_count": 4,
   "id": "99c3ccd5",
   "metadata": {},
   "outputs": [
    {
     "name": "stdout",
     "output_type": "stream",
     "text": [
      "[1, 2, 3, 4] [5, 6, 7, 8] [9, 10, 11, 12]\n"
     ]
    }
   ],
   "source": [
    "def dividir_em_tres_partes(lista):\n",
    "    # Calcula o tamanho de cada parte\n",
    "    tamanho_parte = len(lista) // 3\n",
    "\n",
    "    # Divide a lista em três partes iguais\n",
    "    parte1 = lista[:tamanho_parte]\n",
    "    parte2 = lista[tamanho_parte:2*tamanho_parte]\n",
    "    parte3 = lista[2*tamanho_parte:]\n",
    "\n",
    "    # Retorna as três partes\n",
    "    return parte1, parte2, parte3\n",
    "\n",
    "# Lista de teste\n",
    "lista = [1, 2, 3, 4, 5, 6, 7, 8, 9, 10, 11, 12]\n",
    "\n",
    "# Chama a função com a lista de teste\n",
    "parte1, parte2, parte3 = dividir_em_tres_partes(lista)\n",
    "\n",
    "# Imprime as três partes\n",
    "print(parte1, parte2, parte3)\n"
   ]
  },
  {
   "cell_type": "markdown",
   "id": "083ada54",
   "metadata": {},
   "source": [
    "### Exercícios Parte 2/18\n",
    "Dado o dicionário a seguir:\n",
    "speed = {'jan':47, 'feb':52, 'march':47, 'April':44, 'May':52, 'June':53, 'july':54, 'Aug':44, 'Sept':54}\n",
    "Crie uma lista com todos os valores (não as chaves!) e coloque numa lista de forma que não haja valores duplicados."
   ]
  },
  {
   "cell_type": "code",
   "execution_count": null,
   "id": "f4964ef1",
   "metadata": {},
   "outputs": [],
   "source": [
    "# Dicionário fornecido\n",
    "speed = {'jan': 47, 'feb': 52, 'march': 47, 'April': 44, 'May': 52, 'June': 53, 'july': 54, 'Aug': 44, 'Sept': 54}\n",
    "\n",
    "# Cria uma lista com todos os valores únicos do dicionário\n",
    "valores_unicos = list(set(speed.values()))\n",
    "\n",
    "# Imprime a lista de valores únicos\n",
    "print(valores_unicos)\n"
   ]
  },
  {
   "cell_type": "markdown",
   "id": "b946410a",
   "metadata": {},
   "source": [
    "### Exercícios Parte 2/19\n",
    "Calcule o valor mínimo, valor máximo, valor médio e a mediana da lista gerada na célula abaixo:\n",
    "Obs.: Lembrem-se, para calcular a mediana a lista deve estar ordenada!\n",
    "import random \n",
    "amostra aleatoriamente 50 números do intervalo 0...500\n",
    "random_list = random.sample(range(500),50)\n",
    "Use as variáveis abaixo para representar cada operação matemática:\n",
    "mediana\n",
    "media\n",
    "valor_minimo \n",
    "valor_maximo \n",
    "Importante: Esperamos que você utilize as funções abaixo em seu código:\n",
    "random\n",
    "max\n",
    "min\n",
    "sum"
   ]
  },
  {
   "cell_type": "code",
   "execution_count": null,
   "id": "368f13e3",
   "metadata": {},
   "outputs": [],
   "source": [
    "import random\n",
    "\n",
    "# amostra aleatoriamente 50 números do intervalo 0...500\n",
    "random_list = random.sample(range(500), 50)\n",
    "\n",
    "# Ordena a lista para calcular a mediana\n",
    "sorted_list = sorted(random_list)\n",
    "\n",
    "# Calcula os valores solicitados\n",
    "media = sum(sorted_list) / len(sorted_list)\n",
    "mediana = sorted_list[len(sorted_list) // 2] if len(sorted_list) % 2 != 0 else (sorted_list[len(sorted_list) // 2 - 1] + sorted_list[len(sorted_list) // 2]) / 2\n",
    "valor_minimo = min(sorted_list)\n",
    "valor_maximo = max(sorted_list)\n",
    "\n",
    "# Imprime os resultados\n",
    "print(f\"Media: {media:.2f}, Mediana: {mediana}, Mínimo: {valor_minimo}, Máximo: {valor_maximo}\")"
   ]
  },
  {
   "cell_type": "markdown",
   "id": "7fad4e5b",
   "metadata": {},
   "source": [
    "### Exercícios Parte 2/20\n",
    "Imprima a lista abaixo de trás para frente.\n",
    "a = [1, 0, 2, 3, 5, 8, 13, 21, 34, 55, 89]"
   ]
  },
  {
   "cell_type": "code",
   "execution_count": null,
   "id": "75eb5796",
   "metadata": {},
   "outputs": [],
   "source": [
    "# Lista fornecida\n",
    "a = [1, 0, 2, 3, 5, 8, 13, 21, 34, 55, 89]\n",
    "\n",
    "# Inverte a lista utilizando \"slicing\"\n",
    "lista_invertida = a[::-1]\n",
    "\n",
    "# Imprime a lista invertida\n",
    "print(lista_invertida)\n"
   ]
  }
 ],
 "metadata": {
  "kernelspec": {
   "display_name": "Python 3 (ipykernel)",
   "language": "python",
   "name": "python3"
  },
  "language_info": {
   "codemirror_mode": {
    "name": "ipython",
    "version": 3
   },
   "file_extension": ".py",
   "mimetype": "text/x-python",
   "name": "python",
   "nbconvert_exporter": "python",
   "pygments_lexer": "ipython3",
   "version": "3.10.9"
  }
 },
 "nbformat": 4,
 "nbformat_minor": 5
}
