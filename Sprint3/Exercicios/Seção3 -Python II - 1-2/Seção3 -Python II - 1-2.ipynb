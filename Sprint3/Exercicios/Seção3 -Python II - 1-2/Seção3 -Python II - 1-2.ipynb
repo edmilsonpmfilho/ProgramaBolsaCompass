{
 "cells": [
  {
   "cell_type": "markdown",
   "id": "8aa9a38b",
   "metadata": {},
   "source": [
    "### Exercícios Parte 1/1\n",
    "Implemente duas classes, Pato e Pardal , que herdam de uma superclasse chamada Passaro as habilidades de voar e emitir som.\n",
    "Contudo, tanto Pato quanto Pardal devem emitir sons diferentes (de maneira escrita) no console, conforme o modelo a seguir.\n",
    "Imprima no console exatamente assim:\n",
    "Pato\n",
    "Voando...\n",
    "Pato emitindo som...\n",
    "Quack Quack\n",
    "Pardal\n",
    "Voando...\n",
    "Pardal emitindo som...\n",
    "Piu Piu"
   ]
  },
  {
   "cell_type": "code",
   "execution_count": null,
   "id": "a598a3cc",
   "metadata": {},
   "outputs": [],
   "source": [
    "class Passaro:\n",
    "    def voar(self):\n",
    "        print(\"Passaro Voando...\")\n",
    "\n",
    "    def emitir_som(self):\n",
    "        print(\"Passaro emitindo som...\")\n",
    "\n",
    "\n",
    "class Pato(Passaro):\n",
    "    def emitir_som(self):\n",
    "        print(\"Quack Quack\")\n",
    "\n",
    "\n",
    "class Pardal(Passaro):\n",
    "    def emitir_som(self):\n",
    "        print(\"Piu Piu\")\n",
    "\n",
    "\n",
    "# Teste das classes\n",
    "if __name__ == \"__main__\":\n",
    "    pato = Pato()\n",
    "    print(\"Pato:\")\n",
    "    pato.voar()\n",
    "    pato.emitir_som()\n",
    "\n",
    "    print()\n",
    "\n",
    "    pardal = Pardal()\n",
    "    print(\"Pardal:\")\n",
    "    pardal.voar()\n",
    "    pardal.emitir_som()\n"
   ]
  },
  {
   "cell_type": "markdown",
   "id": "982b850f",
   "metadata": {},
   "source": [
    "### Exercícios Parte 1/2\n",
    "Crie uma classe chamada Pessoa, com um atributo privado chamado nome (declarado internamente na classe como __nome) e um atributo público de nome id.\n",
    "Adicione dois métodos à classe, sendo um para definir o valor de __nome e outro para retornar o valor do respectivo atributo.\n",
    "Lembre-se que o acesso ao atributo privado deve ocorrer somente através dos métodos definidos, nunca diretamente.  Você pode alcançar este comportamento através do recurso de properties do Python.\n",
    "Veja um exemplo de como seu atributo privado pode ser lido e escrito:\n",
    "pessoa = Pessoa(0) \n",
    "pessoa.nome = 'Fulano De Tal'\n",
    "print(pessoa.nome)"
   ]
  },
  {
   "cell_type": "code",
   "execution_count": null,
   "id": "39e87d3a",
   "metadata": {},
   "outputs": [],
   "source": [
    "class Pessoa:\n",
    "    def __init__(self, identificacao):\n",
    "        self.__nome = \"\"  # Atributo privado\n",
    "        self.id = identificacao  # Atributo público\n",
    "\n",
    "    @property\n",
    "    def nome(self):\n",
    "        \"\"\"Getter para obter o valor do atributo privado __nome.\"\"\"\n",
    "        return self.__nome\n",
    "\n",
    "    @nome.setter\n",
    "    def nome(self, novo_nome):\n",
    "        \"\"\"Setter para definir o valor do atributo privado __nome.\"\"\"\n",
    "        self.__nome = novo_nome\n",
    "\n",
    "# Teste da classe Pessoa\n",
    "if __name__ == \"__main__\":\n",
    "    pessoa = Pessoa(0)\n",
    "\n",
    "    # Usando o setter para definir o nome\n",
    "    pessoa.nome = 'Fulano De Tal'\n",
    "\n",
    "    # Usando o getter para obter e imprimir o nome\n",
    "    print(pessoa.nome)\n"
   ]
  },
  {
   "cell_type": "markdown",
   "id": "502209db",
   "metadata": {},
   "source": [
    "### Exercícios Parte 1/3\n",
    "Crie uma classe  Calculo  que contenha um método que aceita dois parâmetros, X e Y, e retorne a soma dos dois. Nessa mesma classe, implemente um método de subtração, que aceita dois parâmetros, X e Y, e retorne a subtração dos dois (resultados negativos são permitidos).\n",
    "Utilize os valores abaixo para testar seu exercício:\n",
    "x = 4 \n",
    "y = 5\n",
    "imprima:\n",
    "Somando: 4+5 = 9\n",
    "Subtraindo: 4-5 = -1"
   ]
  },
  {
   "cell_type": "code",
   "execution_count": null,
   "id": "c4061545",
   "metadata": {},
   "outputs": [],
   "source": [
    "class Calculo:\n",
    "    def somar(self, x, y):\n",
    "        \"\"\"Método para somar dois números.\"\"\"\n",
    "        return x + y\n",
    "\n",
    "    def subtrair(self, x, y):\n",
    "        \"\"\"Método para subtrair dois números.\"\"\"\n",
    "        return x - y\n",
    "\n",
    "# Teste da classe Calculo\n",
    "if __name__ == \"__main__\":\n",
    "    # Instância da classe Calculo\n",
    "    calculadora = Calculo()\n",
    "\n",
    "    # Valores fornecidos\n",
    "    x = 4\n",
    "    y = 5\n",
    "\n",
    "    # Chamando os métodos e imprimindo os resultados\n",
    "    resultado_soma = calculadora.somar(x, y)\n",
    "    resultado_subtracao = calculadora.subtrair(x, y)\n",
    "\n",
    "    print(f\"Somando: {x} + {y} = {resultado_soma}\")\n",
    "    print(f\"Subtraindo: {x} - {y} = {resultado_subtracao}\")\n"
   ]
  },
  {
   "cell_type": "markdown",
   "id": "5f2e06ab",
   "metadata": {},
   "source": [
    "### Exercícios Parte 1/4\n",
    "Crie uma classe Ordenadora que contenha um atributo listaBaguncada e que contenha os métodos ordenacaoCrescente e ordenacaoDecrescente.\n",
    "Instancie um objeto chamado crescente dessa classe Ordenadora que tenha como listaBaguncada a lista [3,4,2,1,5] e instancie um outro objeto, decrescente dessa mesma classe com uma outra listaBaguncada sendo [9,7,6,8].\n",
    "Para o primeiro objeto citado, use o método ordenacaoCrescente e para o segundo objeto, use o método ordenacaoDecrescente.\n",
    "Imprima o resultado da ordenação crescente e da ordenação decresce\n",
    "[1, 2, 3, 4, 5] \n",
    "[9, 8, 7, 6]"
   ]
  },
  {
   "cell_type": "code",
   "execution_count": 12,
   "id": "8922e00b",
   "metadata": {},
   "outputs": [
    {
     "name": "stdout",
     "output_type": "stream",
     "text": [
      "[3, 4, 2, 1, 5]\n",
      "[9, 7, 6, 8]\n"
     ]
    }
   ],
   "source": [
    "class Ordenadora:\n",
    "    def __init__(self, listaBaguncada):\n",
    "        self.listaBaguncada = listaBaguncada\n",
    "\n",
    "    def ordenacaoCrescente(self):\n",
    "        \"\"\"Método para ordenar a lista em ordem crescente.\"\"\"\n",
    "        self.listaBaguncada.sort()\n",
    "        return self.listaBaguncada  # Adicionado o retorno da lista ordenada\n",
    "\n",
    "    def ordenacaoDecrescente(self):\n",
    "        \"\"\"Método para ordenar a lista em ordem decrescente.\"\"\"\n",
    "        self.listaBaguncada.sort(reverse=True)\n",
    "        return self.listaBaguncada  # Adicionado o retorno da lista ordenada\n",
    "    \n",
    "    def __str__(self):\n",
    "        return str(self.listaBaguncada)\n",
    "\n",
    "# Instanciando objetos da classe Ordenadora\n",
    "crescente = Ordenadora([3, 4, 2, 1, 5])\n",
    "decrescente = Ordenadora([9, 7, 6, 8])\n",
    "\n",
    "# Utilizando os métodos\n",
    "crescente.ordenacaoCrescente()\n",
    "decrescente.ordenacaoDecrescente()\n",
    "\n",
    "# Imprimindo os resultados usando __str__\n",
    "print(crescente)\n",
    "print(decrescente)\n",
    "\n"
   ]
  },
  {
   "cell_type": "markdown",
   "id": "7ec718f7",
   "metadata": {},
   "source": [
    "### Exercícios Parte 1/5\n",
    "Crie uma classe Avião que possua os atributos modelo, velocidade_maxima, cor e capacidade.\n",
    "Defina o atributo cor de sua classe , de maneira que todas as instâncias de sua classe avião sejam da cor “azul”.\n",
    "Após isso, a partir de entradas abaixo, instancie e armazene em uma lista 3 objetos da classe Avião.\n",
    "Ao final, itere pela lista imprimindo cada um dos objetos no seguinte formato:\n",
    "“O avião de modelo “x” possui uma velocidade máxima de “y”, capacidade para “z” passageiros e é da cor “w”.\n",
    "Sendo x, y, z e w cada um dos atributos da classe “Avião”\n",
    "\n",
    "Valores de entrada:\n",
    "modelo BOIENG456: velocidade máxima 1500 km/h: capacidade para 400 passageiros: Cor Azul\n",
    "modelo Embraer Praetor 600: velocidade máxima 863km/h: capacidade para 14 passageiros: Cor Azul\n",
    "modelo Antonov An-2: velocidade máxima de 258 Km/h: capacidade para 12 passageiros: Cor Azul"
   ]
  },
  {
   "cell_type": "code",
   "execution_count": 4,
   "id": "f6664cef",
   "metadata": {},
   "outputs": [
    {
     "name": "stdout",
     "output_type": "stream",
     "text": [
      "O avião de modelo 'BOIENG456' possui uma velocidade máxima de 1500 km/h, capacidade para 400 passageiros e é da cor 'Azul'.\n",
      "O avião de modelo 'Embraer Praetor 600' possui uma velocidade máxima de 863 km/h, capacidade para 14 passageiros e é da cor 'Azul'.\n",
      "O avião de modelo 'Antonov An-2' possui uma velocidade máxima de 258 km/h, capacidade para 12 passageiros e é da cor 'Azul'.\n"
     ]
    }
   ],
   "source": [
    "class Aviao:\n",
    "    # Atributo de classe para definir a cor padrão\n",
    "    cor = \"Azul\"\n",
    "\n",
    "    def __init__(self, modelo, velocidade_maxima, capacidade):\n",
    "        self.modelo = modelo\n",
    "        self.velocidade_maxima = velocidade_maxima\n",
    "        self.capacidade = capacidade\n",
    "\n",
    "# Entradas fornecidas\n",
    "entradas = [\n",
    "    (\"BOIENG456\", 1500, 400),\n",
    "    (\"Embraer Praetor 600\", 863, 14),\n",
    "    (\"Antonov An-2\", 258, 12)\n",
    "]\n",
    "\n",
    "# Lista para armazenar objetos da classe Avião\n",
    "avioes = []\n",
    "\n",
    "# Criando objetos da classe Avião e armazenando na lista\n",
    "for entrada in entradas:\n",
    "    modelo, velocidade, capacidade = entrada\n",
    "    aviao = Aviao(modelo, velocidade, capacidade)\n",
    "    avioes.append(aviao)\n",
    "\n",
    "# Iterando pela lista e imprimindo os objetos\n",
    "for aviao in avioes:\n",
    "    print(f\"O avião de modelo '{aviao.modelo}' possui uma velocidade máxima de {aviao.velocidade_maxima} km/h, capacidade para {aviao.capacidade} passageiros e é da cor '{aviao.cor}'.\")\n"
   ]
  },
  {
   "cell_type": "code",
   "execution_count": null,
   "id": "a88b9806",
   "metadata": {},
   "outputs": [],
   "source": []
  },
  {
   "cell_type": "code",
   "execution_count": null,
   "id": "ff11deb6",
   "metadata": {},
   "outputs": [],
   "source": []
  }
 ],
 "metadata": {
  "kernelspec": {
   "display_name": "Python 3 (ipykernel)",
   "language": "python",
   "name": "python3"
  },
  "language_info": {
   "codemirror_mode": {
    "name": "ipython",
    "version": 3
   },
   "file_extension": ".py",
   "mimetype": "text/x-python",
   "name": "python",
   "nbconvert_exporter": "python",
   "pygments_lexer": "ipython3",
   "version": "3.10.9"
  }
 },
 "nbformat": 4,
 "nbformat_minor": 5
}
