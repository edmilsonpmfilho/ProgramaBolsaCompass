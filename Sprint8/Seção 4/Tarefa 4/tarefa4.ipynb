{
 "cells": [
  {
   "cell_type": "code",
   "execution_count": 38,
   "id": "eb6ba177-c27b-4366-80ec-fde64e76c634",
   "metadata": {},
   "outputs": [],
   "source": [
    "from pyspark.sql import SparkSession\n",
    "from os.path import abspath\n",
    "from pyspark.sql import functions as F\n"
   ]
  },
  {
   "cell_type": "code",
   "execution_count": 54,
   "id": "fe293457-b6ed-4cb1-b693-fd7b57eb3b27",
   "metadata": {},
   "outputs": [
    {
     "name": "stdout",
     "output_type": "stream",
     "text": [
      "+----------------+\n",
      "|             _c0|\n",
      "+----------------+\n",
      "|  Frances Bennet|\n",
      "|   Jamie Russell|\n",
      "|  Edward Kistler|\n",
      "|   Sheila Maurer|\n",
      "|Donald Golightly|\n",
      "+----------------+\n",
      "only showing top 5 rows\n",
      "\n"
     ]
    }
   ],
   "source": [
    "spark = SparkSession \\\n",
    "    .builder \\\n",
    "    .master(\"local[*]\") \\\n",
    "    .appName(\"Exercicio Intro\") \\\n",
    "    .getOrCreate()\n",
    "\n",
    "caminho_absoluto = abspath(\"nomes_aleatorios.txt\")\n",
    "df_nomes = spark.read.csv(caminho_absoluto, inferSchema=True)\n",
    "\n",
    "df_nomes.show(5)"
   ]
  },
  {
   "cell_type": "code",
   "execution_count": 55,
   "id": "c73c65d3-a6e8-47df-8e75-b984398e1269",
   "metadata": {},
   "outputs": [
    {
     "name": "stdout",
     "output_type": "stream",
     "text": [
      "+-----------------+\n",
      "|            Nomes|\n",
      "+-----------------+\n",
      "|   Frances Bennet|\n",
      "|    Jamie Russell|\n",
      "|   Edward Kistler|\n",
      "|    Sheila Maurer|\n",
      "| Donald Golightly|\n",
      "|       David Gray|\n",
      "|      Joy Bennett|\n",
      "|      Paul Kriese|\n",
      "|Berniece Ornellas|\n",
      "|    Brian Farrell|\n",
      "+-----------------+\n",
      "only showing top 10 rows\n",
      "\n"
     ]
    }
   ],
   "source": [
    "df_nomes = df_nomes.withColumnRenamed(\"_c0\", \"Nomes\")\n",
    "df_nomes.show(10)"
   ]
  },
  {
   "cell_type": "code",
   "execution_count": 56,
   "id": "20281615-593e-4e6c-972b-60d5717dea09",
   "metadata": {},
   "outputs": [
    {
     "name": "stdout",
     "output_type": "stream",
     "text": [
      "+-----------------+------------+\n",
      "|            Nomes|Escolaridade|\n",
      "+-----------------+------------+\n",
      "|   Frances Bennet| Fundamental|\n",
      "|    Jamie Russell| Fundamental|\n",
      "|   Edward Kistler| Fundamental|\n",
      "|    Sheila Maurer| Fundamental|\n",
      "| Donald Golightly|    Superior|\n",
      "|       David Gray|       Médio|\n",
      "|      Joy Bennett| Fundamental|\n",
      "|      Paul Kriese|    Superior|\n",
      "|Berniece Ornellas|       Médio|\n",
      "|    Brian Farrell|       Médio|\n",
      "+-----------------+------------+\n",
      "only showing top 10 rows\n",
      "\n"
     ]
    }
   ],
   "source": [
    "valores_escolaridade = [\"Fundamental\", \"Médio\", \"Superior\"]\n",
    "\n",
    "df_nomes = df_nomes.withColumn(\"Escolaridade\", \n",
    "                                F.when(F.rand() < 1/3, valores_escolaridade[0])\n",
    "                                .when(F.rand() < 2/3, valores_escolaridade[1])\n",
    "                                .otherwise(valores_escolaridade[2]))\n",
    "\n",
    "df_nomes.show(10)"
   ]
  },
  {
   "cell_type": "code",
   "execution_count": 58,
   "id": "a407182c-f83b-4304-b275-700780e2929d",
   "metadata": {},
   "outputs": [
    {
     "name": "stdout",
     "output_type": "stream",
     "text": [
      "+-----------------+------------+---------+\n",
      "|            Nomes|Escolaridade|     Pais|\n",
      "+-----------------+------------+---------+\n",
      "|   Frances Bennet| Fundamental|  Uruguai|\n",
      "|    Jamie Russell| Fundamental|   Brasil|\n",
      "|   Edward Kistler| Fundamental| Suriname|\n",
      "|    Sheila Maurer| Fundamental| Colômbia|\n",
      "| Donald Golightly|    Superior|     Peru|\n",
      "|       David Gray|       Médio|   Guiana|\n",
      "|      Joy Bennett| Fundamental| Paraguai|\n",
      "|      Paul Kriese|    Superior|   Brasil|\n",
      "|Berniece Ornellas|       Médio|  Bolívia|\n",
      "|    Brian Farrell|       Médio|Argentina|\n",
      "+-----------------+------------+---------+\n",
      "only showing top 10 rows\n",
      "\n"
     ]
    }
   ],
   "source": [
    "paises_sulamericanos = [\n",
    "    \"Brasil\", \"Argentina\", \"Colômbia\", \"Venezuela\", \"Peru\", \n",
    "    \"Chile\", \"Equador\", \"Bolívia\", \"Paraguai\", \"Uruguai\", \n",
    "    \"Guiana\", \"Suriname\", \"Guiana Francesa\"\n",
    "]\n",
    "# Adicionando a coluna \"Pais\" com valores aleatórios\n",
    "df_nomes = df_nomes.withColumn(\"Pais\",\n",
    "    F.element_at(\n",
    "        F.array([F.lit(p) for p in paises_sulamericanos]),\n",
    "        (F.floor(F.rand() * F.size(F.array([F.lit(p) for p in paises_sulamericanos]))) + 1).cast(\"int\")\n",
    "    )\n",
    ")\n",
    "df_nomes.show(10)\n",
    "\n"
   ]
  },
  {
   "cell_type": "code",
   "execution_count": 59,
   "id": "a38c363d-2236-4f6b-a6a1-32e2f2683a6c",
   "metadata": {},
   "outputs": [
    {
     "name": "stdout",
     "output_type": "stream",
     "text": [
      "+-----------------+------------+---------+-------------+\n",
      "|            Nomes|Escolaridade|     Pais|AnoNascimento|\n",
      "+-----------------+------------+---------+-------------+\n",
      "|   Frances Bennet| Fundamental|  Uruguai|         1946|\n",
      "|    Jamie Russell| Fundamental|   Brasil|         1949|\n",
      "|   Edward Kistler| Fundamental| Suriname|         1972|\n",
      "|    Sheila Maurer| Fundamental| Colômbia|         1958|\n",
      "| Donald Golightly|    Superior|     Peru|         1993|\n",
      "|       David Gray|       Médio|   Guiana|         1989|\n",
      "|      Joy Bennett| Fundamental| Paraguai|         1972|\n",
      "|      Paul Kriese|    Superior|   Brasil|         1980|\n",
      "|Berniece Ornellas|       Médio|  Bolívia|         1978|\n",
      "|    Brian Farrell|       Médio|Argentina|         1945|\n",
      "+-----------------+------------+---------+-------------+\n",
      "only showing top 10 rows\n",
      "\n"
     ]
    }
   ],
   "source": [
    "df_nomes = df_nomes.withColumn(\"AnoNascimento\", (F.rand() * (2010 - 1945) + 1945).cast(\"int\"))\n",
    "\n",
    "df_nomes.show(10)"
   ]
  },
  {
   "cell_type": "code",
   "execution_count": 60,
   "id": "bd4e6d3a-8efc-49c2-ba6a-2bfbcbd2c20a",
   "metadata": {
    "scrolled": true
   },
   "outputs": [
    {
     "name": "stdout",
     "output_type": "stream",
     "text": [
      "+--------------------+------------+---------------+-------------+\n",
      "|               Nomes|Escolaridade|           Pais|AnoNascimento|\n",
      "+--------------------+------------+---------------+-------------+\n",
      "|        James Barton|    Superior|           Peru|         2006|\n",
      "|Christopher Williams| Fundamental|         Guiana|         2009|\n",
      "|       Jenna Johnson|       Médio|           Peru|         2007|\n",
      "|     Katherine Moore| Fundamental|         Brasil|         2009|\n",
      "|        Jerry Remick| Fundamental|         Brasil|         2001|\n",
      "|      Michael Farmer| Fundamental|         Brasil|         2001|\n",
      "|         John Snipes| Fundamental|       Paraguai|         2004|\n",
      "|      Diane Spillett| Fundamental|Guiana Francesa|         2009|\n",
      "|       Fannie Taylor|    Superior|           Peru|         2008|\n",
      "|      Bradley Nester|       Médio|        Uruguai|         2008|\n",
      "+--------------------+------------+---------------+-------------+\n",
      "only showing top 10 rows\n",
      "\n"
     ]
    }
   ],
   "source": [
    "df_select = df_nomes.filter(F.col(\"AnoNascimento\") >= 2000)\n",
    "\n",
    "df_select.show(10)"
   ]
  },
  {
   "cell_type": "code",
   "execution_count": 61,
   "id": "14f85254-9285-4125-9cbe-5e3e518b3ae1",
   "metadata": {},
   "outputs": [
    {
     "name": "stdout",
     "output_type": "stream",
     "text": [
      "+--------------------+------------+---------------+-------------+\n",
      "|               Nomes|Escolaridade|           Pais|AnoNascimento|\n",
      "+--------------------+------------+---------------+-------------+\n",
      "|        James Barton|    Superior|           Peru|         2006|\n",
      "|Christopher Williams| Fundamental|         Guiana|         2009|\n",
      "|       Jenna Johnson|       Médio|           Peru|         2007|\n",
      "|     Katherine Moore| Fundamental|         Brasil|         2009|\n",
      "|        Jerry Remick| Fundamental|         Brasil|         2001|\n",
      "|      Michael Farmer| Fundamental|         Brasil|         2001|\n",
      "|         John Snipes| Fundamental|       Paraguai|         2004|\n",
      "|      Diane Spillett| Fundamental|Guiana Francesa|         2009|\n",
      "|       Fannie Taylor|    Superior|           Peru|         2008|\n",
      "|      Bradley Nester|       Médio|        Uruguai|         2008|\n",
      "+--------------------+------------+---------------+-------------+\n",
      "only showing top 10 rows\n",
      "\n"
     ]
    }
   ],
   "source": [
    "df_nomes.createOrReplaceTempView(\"pessoas\")\n",
    "\n",
    "df_select_sql = spark.sql(\"SELECT * FROM pessoas WHERE AnoNascimento >= 2000\")\n",
    "\n",
    "df_select_sql.show(10)"
   ]
  },
  {
   "cell_type": "code",
   "execution_count": 32,
   "id": "8d4a60d6-0f5a-4b94-b18d-8596d446b2d7",
   "metadata": {},
   "outputs": [
    {
     "name": "stdout",
     "output_type": "stream",
     "text": [
      "Número de pessoas da geração Millennials: 2307242\n"
     ]
    }
   ],
   "source": [
    "df_millennials = df_nomes.filter((F.col(\"AnoNascimento\") >= 1980) & (F.col(\"AnoNascimento\") <= 1994))\n",
    "\n",
    "count_millennials = df_millennials.count()\n",
    "\n",
    "print(f\"Número de pessoas da geração Millennials: {count_millennials}\")"
   ]
  },
  {
   "cell_type": "code",
   "execution_count": 39,
   "id": "b1c44804-04fa-4729-b0b0-2f1f000bdab6",
   "metadata": {},
   "outputs": [
    {
     "name": "stdout",
     "output_type": "stream",
     "text": [
      "+--------+\n",
      "|count(1)|\n",
      "+--------+\n",
      "| 2307242|\n",
      "+--------+\n",
      "\n"
     ]
    }
   ],
   "source": [
    "df_nomes.createOrReplaceTempView(\"pessoas\")\n",
    "\n",
    "count_millennials_sql = spark.sql(\"SELECT COUNT(*) FROM pessoas WHERE AnoNascimento BETWEEN 1980 AND 1994\")\n",
    "\n",
    "count_millennials_sql.show()"
   ]
  },
  {
   "cell_type": "code",
   "execution_count": 53,
   "id": "743e009f-d085-42c3-8f8d-88acbb28a16e",
   "metadata": {},
   "outputs": [
    {
     "name": "stdout",
     "output_type": "stream",
     "text": [
      "+---------------+----------+\n",
      "|           Pais|Quantidade|\n",
      "+---------------+----------+\n",
      "|      Argentina|    177498|\n",
      "|        Bolívia|    177724|\n",
      "|         Brasil|    177318|\n",
      "|          Chile|    177402|\n",
      "|       Colômbia|    177329|\n",
      "|        Equador|    177070|\n",
      "|         Guiana|    177881|\n",
      "|Guiana Francesa|    177420|\n",
      "|       Paraguai|    178016|\n",
      "|           Peru|    177058|\n",
      "|       Suriname|    177795|\n",
      "|        Uruguai|    177265|\n",
      "|      Venezuela|    177212|\n",
      "+---------------+----------+\n",
      "\n"
     ]
    }
   ],
   "source": [
    "df_nomes.createOrReplaceTempView(\"pessoas\")\n",
    "df_z = spark.sql(\"\"\"\n",
    "    SELECT Pais, COUNT(*) AS Quantidade\n",
    "    FROM pessoas\n",
    "    WHERE AnoNascimento BETWEEN 1995 AND 2015\n",
    "    GROUP BY Pais\n",
    "    ORDER BY Pais\n",
    "\"\"\")\n",
    "\n",
    "df_z.show()"
   ]
  },
  {
   "cell_type": "code",
   "execution_count": 65,
   "id": "e5301bb5-5504-4daa-be7a-5b9dfd557265",
   "metadata": {},
   "outputs": [
    {
     "name": "stdout",
     "output_type": "stream",
     "text": [
      "+-----------------+------------+---------+-------------+\n",
      "|            Nomes|Escolaridade|     Pais|AnoNascimento|\n",
      "+-----------------+------------+---------+-------------+\n",
      "|   Frances Bennet| Fundamental|  Uruguai|         1946|\n",
      "|    Jamie Russell| Fundamental|   Brasil|         1949|\n",
      "|   Edward Kistler| Fundamental| Suriname|         1972|\n",
      "|    Sheila Maurer| Fundamental| Colômbia|         1958|\n",
      "| Donald Golightly|    Superior|     Peru|         1993|\n",
      "|       David Gray|       Médio|   Guiana|         1989|\n",
      "|      Joy Bennett| Fundamental| Paraguai|         1972|\n",
      "|      Paul Kriese|    Superior|   Brasil|         1980|\n",
      "|Berniece Ornellas|       Médio|  Bolívia|         1978|\n",
      "|    Brian Farrell|       Médio|Argentina|         1945|\n",
      "+-----------------+------------+---------+-------------+\n",
      "only showing top 10 rows\n",
      "\n"
     ]
    }
   ],
   "source": [
    "df_nomes.show(10)"
   ]
  },
  {
   "cell_type": "code",
   "execution_count": 67,
   "id": "969d3196-bad1-49a7-90e2-cacbce004826",
   "metadata": {},
   "outputs": [
    {
     "name": "stdout",
     "output_type": "stream",
     "text": [
      "+----------------+\n",
      "|           Nomes|\n",
      "+----------------+\n",
      "|      Frank Rose|\n",
      "|   Scott Aguilar|\n",
      "| Alfredo Schnell|\n",
      "|   Sandra Brasil|\n",
      "|   Leon Kanahele|\n",
      "|      Eric Adams|\n",
      "|       Ryan Dean|\n",
      "|    Corey Keller|\n",
      "|     Arthur Gumm|\n",
      "|Walter Humpherys|\n",
      "|Randall Grizzard|\n",
      "|    Richard King|\n",
      "|   Mary Williams|\n",
      "|    Rebecca Gass|\n",
      "|   Adam Williams|\n",
      "|   Corey Mcaulay|\n",
      "|    Roxie Bernal|\n",
      "|    David Lowman|\n",
      "|  Enrique Miller|\n",
      "|  Jackie Leonard|\n",
      "+----------------+\n",
      "only showing top 20 rows\n",
      "\n"
     ]
    }
   ],
   "source": [
    "df_nomes.createOrReplaceTempView(\"tabela\")\n",
    "\n",
    "# Executar a consulta para encontrar os nomes únicos\n",
    "nomes_unicos = spark.sql(\"\"\"\n",
    "    SELECT DISTINCT Nomes\n",
    "    FROM tabela\n",
    "\"\"\")\n",
    "\n",
    "# Exibir os nomes únicos\n",
    "nomes_unicos.show()"
   ]
  },
  {
   "cell_type": "code",
   "execution_count": null,
   "id": "551d1b19-2bc9-4184-97bd-ccf57144e6c0",
   "metadata": {},
   "outputs": [],
   "source": []
  }
 ],
 "metadata": {
  "kernelspec": {
   "display_name": "Python 3 (ipykernel)",
   "language": "python",
   "name": "python3"
  },
  "language_info": {
   "codemirror_mode": {
    "name": "ipython",
    "version": 3
   },
   "file_extension": ".py",
   "mimetype": "text/x-python",
   "name": "python",
   "nbconvert_exporter": "python",
   "pygments_lexer": "ipython3",
   "version": "3.11.6"
  }
 },
 "nbformat": 4,
 "nbformat_minor": 5
}
