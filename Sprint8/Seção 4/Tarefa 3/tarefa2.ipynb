{
 "cells": [
  {
   "cell_type": "code",
   "execution_count": 2,
   "metadata": {},
   "outputs": [
    {
     "name": "stdout",
     "output_type": "stream",
     "text": [
      "abelha\n",
      "aranha\n",
      "borboleta\n",
      "cachorro\n",
      "cavalo\n",
      "cobra\n",
      "coelho\n",
      "elefante\n",
      "formiga\n",
      "gato\n",
      "girafa\n",
      "leão\n",
      "macaco\n",
      "pato\n",
      "peixe\n",
      "pombo\n",
      "rato\n",
      "tigre\n",
      "vaca\n",
      "zebra\n"
     ]
    }
   ],
   "source": [
    "animais = [\"gato\", \"cachorro\", \"elefante\", \"leão\", \"tigre\", \"girafa\", \"zebra\", \"macaco\", \"coelho\", \"rato\", \n",
    "           \"pato\", \"pombo\", \"cavalo\", \"vaca\", \"peixe\", \"cobra\", \"abelha\", \"formiga\", \"borboleta\", \"aranha\"]\n",
    "\n",
    "\n",
    "animais.sort()\n",
    "\n",
    "for animal in animais:\n",
    "    print(animal)"
   ]
  },
  {
   "cell_type": "code",
   "execution_count": null,
   "metadata": {},
   "outputs": [],
   "source": [
    "import csv\n",
    "arquivo = \"animais.csv\"\n",
    "with open(arquivo, \"w\", newline=\"\") as arquivo_csv:\n",
    "    escritor_csv = csv.writer(arquivo_csv)\n",
    "    for animal in animais:\n",
    "        escritor_csv.writerow([animal])"
   ]
  }
 ],
 "metadata": {
  "kernelspec": {
   "display_name": "Python 3",
   "language": "python",
   "name": "python3"
  },
  "language_info": {
   "codemirror_mode": {
    "name": "ipython",
    "version": 3
   },
   "file_extension": ".py",
   "mimetype": "text/x-python",
   "name": "python",
   "nbconvert_exporter": "python",
   "pygments_lexer": "ipython3",
   "version": "3.12.1"
  }
 },
 "nbformat": 4,
 "nbformat_minor": 2
}
