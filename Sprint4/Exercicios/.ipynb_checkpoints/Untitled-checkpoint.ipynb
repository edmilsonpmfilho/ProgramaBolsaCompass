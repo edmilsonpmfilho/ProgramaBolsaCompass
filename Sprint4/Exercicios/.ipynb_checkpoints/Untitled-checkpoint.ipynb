{
 "cells": [
  {
   "cell_type": "markdown",
   "id": "83279fd1",
   "metadata": {},
   "source": [
    "## E1\n",
    "Você está recebendo um arquivo contendo 10.000 números inteiros, um em cada linha. Utilizando lambdas e high order functions, apresente os 5 maiores valores pares e a soma destes.\n",
    "Você deverá aplicar as seguintes funções no exercício:\n",
    "    \n",
    "    map\n",
    "    filter\n",
    "    sorted\n",
    "    sum\n",
    "    \n",
    "Seu código deverá exibir na saída (simplesmente utilizando 2 comandos `print()`):\n",
    "a lista dos 5 maiores números pares em ordem decrescente;\n",
    "a soma destes valores."
   ]
  },
  {
   "cell_type": "code",
   "execution_count": null,
   "id": "f57fc1b2",
   "metadata": {},
   "outputs": [],
   "source": [
    "# Leitura do arquivo e conversão dos valores para inteiros\n",
    "with open('number.txt', 'r') as file:\n",
    "    numeros = list(map(int, file.readlines()))\n",
    "\n",
    "# Filtrar apenas os números pares\n",
    "pares = list(filter(lambda x: x % 2 == 0, numeros))\n",
    "\n",
    "# Ordenar em ordem decrescente\n",
    "ordem_num = sorted(pares, reverse=True)\n",
    "\n",
    "# Pegar os 5 maiores valores\n",
    "maiores_num = ordem_num[:5]\n",
    "\n",
    "# Imprimir os resultados\n",
    "print(maiores_num)\n",
    "\n",
    "# Calcular e imprimir a soma dos 5 maiores valores\n",
    "print(sum(maiores_num))\n",
    "\n"
   ]
  },
  {
   "cell_type": "markdown",
   "id": "20c9f76d",
   "metadata": {},
   "source": [
    "## E2\n",
    "Utilizando high order functions, implemente o corpo da função conta_vogais. O parâmetro de entrada será uma string e o resultado deverá ser a contagem de vogais presentes em seu conteúdo.\n",
    "É obrigatório aplicar as seguintes funções:\n",
    "    \n",
    "    len\n",
    "    filter\n",
    "    lambda\n",
    "    \n",
    "Desconsidere os caracteres acentuados. Eles não serão utilizados nos testes do seu código."
   ]
  },
  {
   "cell_type": "code",
   "execution_count": 1,
   "id": "5efd709b",
   "metadata": {},
   "outputs": [
    {
     "name": "stdout",
     "output_type": "stream",
     "text": [
      "Número de vogais no texto: 7\n"
     ]
    }
   ],
   "source": [
    "def conta_vogais(texto:str) -> int:\n",
    "     # Definir as vogais\n",
    "    vogais = set(\"aeiouAEIOU\")\n",
    "    #filtrar vogais\n",
    "    vogais_filtradas = filter(lambda x: x in vogais, texto)\n",
    "    # Calcular o comprimento da lista resultante\n",
    "    count = len(list(vogais_filtradas))\n",
    "    return count\n",
    "\n",
    "#teste\n",
    "texto_teste = \"Olá, isso é um exemplo\"\n",
    "resultado = conta_vogais(texto_teste)\n",
    "print(\"Número de vogais no texto:\", resultado)\n"
   ]
  },
  {
   "cell_type": "markdown",
   "id": "4b18f9a4",
   "metadata": {},
   "source": [
    "## E3\n",
    "A função calcula_saldo recebe uma lista de tuplas, correspondendo a um conjunto de lançamentos bancários. Cada lançamento é composto pelo seu valor (sempre positivo) e pelo seu tipo (C - crédito ou D - débito). \n",
    "Abaixo apresentando uma possível entrada para a função.\n",
    "    \n",
    "    lancamentos = [\n",
    "        (200,'D'),\n",
    "        (300,'C'),\n",
    "        (100,'C')\n",
    "    ]\n",
    "\n",
    "\n",
    "A partir dos lançamentos, a função deve calcular o valor final, somando créditos e subtraindo débitos. Na lista anterior, por exemplo, teríamos como resultado final 200.\n",
    "Além de utilizar lambdas, você deverá aplicar, obrigatoriamente, as seguintes funções na resolução:\n",
    "    \n",
    "    reduce (módulo functools)\n",
    "    map"
   ]
  },
  {
   "cell_type": "code",
   "execution_count": 2,
   "id": "c429c809",
   "metadata": {},
   "outputs": [
    {
     "name": "stdout",
     "output_type": "stream",
     "text": [
      "Saldo final: 200.0\n"
     ]
    }
   ],
   "source": [
    "from functools import reduce\n",
    "\n",
    "def calcula_saldo(lancamentos) -> float:\n",
    "    # valor de cada lançamento\n",
    "    calcular_valor = lambda x: x[0] if x[1] == 'C' else -x[0]\n",
    "    valores_calculados = map(calcular_valor, lancamentos)\n",
    "    #somar todos os valores calculados\n",
    "    saldo_final = reduce(lambda x, y: x + y, valores_calculados, 0.0)\n",
    "    return saldo_final\n",
    "\n",
    "# lançamentos\n",
    "lancamentos = [\n",
    "    (200, 'D'),\n",
    "    (300, 'C'),\n",
    "    (100, 'C')\n",
    "]\n",
    "\n",
    "resultado = calcula_saldo(lancamentos)\n",
    "print(\"Saldo final:\", resultado)\n"
   ]
  },
  {
   "cell_type": "markdown",
   "id": "fab91d59",
   "metadata": {},
   "source": [
    "## E4\n",
    "\n",
    "A função calcular_valor_maximo deve receber dois parâmetros, chamados de operadores e operandos. Em operadores, espera-se uma lista de caracteres que representam as operações matemáticas suportadas (+, -, /, *, %), as quais devem ser aplicadas à lista de operadores nas respectivas posições. Após aplicar cada operação ao respectivo par de operandos, a função deverá retornar o maior valor dentre eles.\n",
    "Veja o exemplo:\n",
    "\n",
    "    Entrada\n",
    "        operadores = ['+','-','*','/','+']\n",
    "        operandos  = [(3,6), (-7,4.9), (8,-8), (10,2), (8,4)]\n",
    "    Aplicar as operações aos pares de operandos\n",
    "        [ 3+6 , -7-4.9, 8*-8 , 10/2 , 8+4 ] \n",
    "    Obter o maior dos valores\n",
    "        12\n",
    "Na resolução da atividade você deverá aplicar as seguintes funções:\n",
    "\n",
    "    max\n",
    "    zip\n",
    "    map"
   ]
  },
  {
   "cell_type": "code",
   "execution_count": 8,
   "id": "4d859da0",
   "metadata": {},
   "outputs": [
    {
     "name": "stdout",
     "output_type": "stream",
     "text": [
      "Maior valor resultante: 12\n"
     ]
    }
   ],
   "source": [
    "def calcular_valor_maximo(operadores, operandos) -> float:\n",
    "    # Mapear operadores para funções correspondentes\n",
    "    operacoes = {\n",
    "        '+': lambda x, y: x + y,\n",
    "        '-': lambda x, y: x - y,\n",
    "        '*': lambda x, y: x * y,\n",
    "        '/': lambda x, y: x / y,\n",
    "        '%': lambda x, y: x % y,\n",
    "    }\n",
    "\n",
    "    # Aplicar operações aos pares de operandos usando zip e map\n",
    "    resultados = map(lambda op_args: operacoes[op_args[0]](*op_args[1]), zip(operadores, operandos))\n",
    "\n",
    "    # Encontrar o maior valor entre os resultados\n",
    "    valor_maximo = max(resultados)\n",
    "\n",
    "    return valor_maximo\n",
    "\n",
    "# Exemplo de uso:\n",
    "operadores = ['+', '-', '*', '/', '+']\n",
    "operandos = [(3, 6), (-7, 4.9), (8, -8), (10, 2), (8, 4)]\n",
    "\n",
    "resultado = calcular_valor_maximo(operadores, operandos)\n",
    "print(\"Maior valor resultante:\", resultado)\n",
    "\n"
   ]
  },
  {
   "cell_type": "markdown",
   "id": "1ae74634",
   "metadata": {},
   "source": [
    "## E5\n",
    "\n",
    "Um determinado sistema escolar exporta a grade de notas dos estudantes em formato CSV. Cada linha do arquivo corresponde ao nome do estudante, acompanhado de 5 notas de avaliação, no intervalo [0-10]. É o arquivo estudantes.csv de seu exercício.\n",
    "Precisamos processar seu conteúdo, de modo a gerar como saída um relatório em formato textual contendo as seguintes informações\n",
    "\n",
    "    Nome do estudante\n",
    "    Três maiores notas, em ordem decrescente\n",
    "    Média das três maiores notas, com duas casas decimais de precisão\n",
    "\n",
    "O resultado do processamento deve ser escrito na saída padrão (print), ordenado pelo nome do estudante e obedecendo ao formato descrito a seguir:\n",
    "\n",
    "    Nome: <nome estudante> Notas: [n1, n2, n3] Média: <média>\n",
    "\n",
    "Exemplo:\n",
    "\n",
    "    Nome: Maria Luiza Correia Notas: [7, 5, 5] Média: 5.67\n",
    "    Nome: Maria Mendes Notas: [7, 3, 3] Média: 4.33\n",
    "\n",
    "Em seu desenvolvimento você deverá utilizar lambdas e as seguintes funções:\n",
    "\n",
    "    round\n",
    "    map\n",
    "    sorted\n",
    "\n"
   ]
  },
  {
   "cell_type": "code",
   "execution_count": 9,
   "id": "2ba993d8",
   "metadata": {},
   "outputs": [
    {
     "ename": "FileNotFoundError",
     "evalue": "[Errno 2] No such file or directory: 'estudantes.csv'",
     "output_type": "error",
     "traceback": [
      "\u001b[1;31m---------------------------------------------------------------------------\u001b[0m",
      "\u001b[1;31mFileNotFoundError\u001b[0m                         Traceback (most recent call last)",
      "Cell \u001b[1;32mIn[9], line 3\u001b[0m\n\u001b[0;32m      1\u001b[0m \u001b[38;5;28;01mimport\u001b[39;00m \u001b[38;5;21;01mcsv\u001b[39;00m\n\u001b[1;32m----> 3\u001b[0m \u001b[38;5;28;01mwith\u001b[39;00m \u001b[38;5;28;43mopen\u001b[39;49m\u001b[43m(\u001b[49m\u001b[38;5;124;43m'\u001b[39;49m\u001b[38;5;124;43mestudantes.csv\u001b[39;49m\u001b[38;5;124;43m'\u001b[39;49m\u001b[43m,\u001b[49m\u001b[43m \u001b[49m\u001b[38;5;124;43m'\u001b[39;49m\u001b[38;5;124;43mr\u001b[39;49m\u001b[38;5;124;43m'\u001b[39;49m\u001b[43m)\u001b[49m \u001b[38;5;28;01mas\u001b[39;00m arquivo_csv:\n\u001b[0;32m      4\u001b[0m     leitor_csv \u001b[38;5;241m=\u001b[39m csv\u001b[38;5;241m.\u001b[39mreader(arquivo_csv)\n\u001b[0;32m      5\u001b[0m     estudantes \u001b[38;5;241m=\u001b[39m \u001b[38;5;28mlist\u001b[39m(leitor_csv)\n",
      "File \u001b[1;32m~\\anaconda3\\lib\\site-packages\\IPython\\core\\interactiveshell.py:282\u001b[0m, in \u001b[0;36m_modified_open\u001b[1;34m(file, *args, **kwargs)\u001b[0m\n\u001b[0;32m    275\u001b[0m \u001b[38;5;28;01mif\u001b[39;00m file \u001b[38;5;129;01min\u001b[39;00m {\u001b[38;5;241m0\u001b[39m, \u001b[38;5;241m1\u001b[39m, \u001b[38;5;241m2\u001b[39m}:\n\u001b[0;32m    276\u001b[0m     \u001b[38;5;28;01mraise\u001b[39;00m \u001b[38;5;167;01mValueError\u001b[39;00m(\n\u001b[0;32m    277\u001b[0m         \u001b[38;5;124mf\u001b[39m\u001b[38;5;124m\"\u001b[39m\u001b[38;5;124mIPython won\u001b[39m\u001b[38;5;124m'\u001b[39m\u001b[38;5;124mt let you open fd=\u001b[39m\u001b[38;5;132;01m{\u001b[39;00mfile\u001b[38;5;132;01m}\u001b[39;00m\u001b[38;5;124m by default \u001b[39m\u001b[38;5;124m\"\u001b[39m\n\u001b[0;32m    278\u001b[0m         \u001b[38;5;124m\"\u001b[39m\u001b[38;5;124mas it is likely to crash IPython. If you know what you are doing, \u001b[39m\u001b[38;5;124m\"\u001b[39m\n\u001b[0;32m    279\u001b[0m         \u001b[38;5;124m\"\u001b[39m\u001b[38;5;124myou can use builtins\u001b[39m\u001b[38;5;124m'\u001b[39m\u001b[38;5;124m open.\u001b[39m\u001b[38;5;124m\"\u001b[39m\n\u001b[0;32m    280\u001b[0m     )\n\u001b[1;32m--> 282\u001b[0m \u001b[38;5;28;01mreturn\u001b[39;00m io_open(file, \u001b[38;5;241m*\u001b[39margs, \u001b[38;5;241m*\u001b[39m\u001b[38;5;241m*\u001b[39mkwargs)\n",
      "\u001b[1;31mFileNotFoundError\u001b[0m: [Errno 2] No such file or directory: 'estudantes.csv'"
     ]
    }
   ],
   "source": [
    "import csv\n",
    "\n",
    "def processar_dados(estudantes):\n",
    "    relatorio = []\n",
    "\n",
    "    for estudante in estudantes:\n",
    "        nome = estudante[0]\n",
    "        notas = list(map(int, estudante[1:]))\n",
    "        tres_maiores_notas = sorted(notas, reverse=True)[:3]\n",
    "        media_tres_maiores = round(sum(tres_maiores_notas) / 3, 2)\n",
    "\n",
    "        relatorio.append({\n",
    "            \"nome\": nome,\n",
    "            \"notas\": tres_maiores_notas,\n",
    "            \"media\": media_tres_maiores\n",
    "        })\n",
    "\n",
    "    return relatorio\n",
    "\n",
    "def imprimir_relatorio(relatorio):\n",
    "    for aluno in sorted(relatorio, key=lambda x: x[\"nome\"]):\n",
    "        print(f\"Nome: {aluno['nome']} Notas: {aluno['notas']} Média: {aluno['media']}\")\n",
    "        \n",
    "with open('estudantes.csv', 'r') as arquivo_csv:\n",
    "    leitor_csv = csv.reader(arquivo_csv)\n",
    "    estudantes = list(leitor_csv)\n",
    "\n",
    "    relatorio = processar_dados(estudantes) \n",
    "    imprimir_relatorio(relatorio)"
   ]
  },
  {
   "cell_type": "code",
   "execution_count": null,
   "id": "d4fc7c63",
   "metadata": {},
   "outputs": [],
   "source": []
  }
 ],
 "metadata": {
  "kernelspec": {
   "display_name": "Python 3 (ipykernel)",
   "language": "python",
   "name": "python3"
  },
  "language_info": {
   "codemirror_mode": {
    "name": "ipython",
    "version": 3
   },
   "file_extension": ".py",
   "mimetype": "text/x-python",
   "name": "python",
   "nbconvert_exporter": "python",
   "pygments_lexer": "ipython3",
   "version": "3.10.9"
  }
 },
 "nbformat": 4,
 "nbformat_minor": 5
}
